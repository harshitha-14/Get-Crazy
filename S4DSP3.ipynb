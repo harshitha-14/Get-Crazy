{
  "nbformat": 4,
  "nbformat_minor": 0,
  "metadata": {
    "colab": {
      "name": "S4DSP3.ipynb",
      "provenance": [],
      "collapsed_sections": [],
      "authorship_tag": "ABX9TyPYHQ4TY8v2nqnCFrOaHTDL",
      "include_colab_link": true
    },
    "kernelspec": {
      "name": "python3",
      "display_name": "Python 3"
    }
  },
  "cells": [
    {
      "cell_type": "markdown",
      "metadata": {
        "id": "view-in-github",
        "colab_type": "text"
      },
      "source": [
        "<a href=\"https://colab.research.google.com/github/bhargavsai2001/website/blob/master/S4DSP3.ipynb\" target=\"_parent\"><img src=\"https://colab.research.google.com/assets/colab-badge.svg\" alt=\"Open In Colab\"/></a>"
      ]
    },
    {
      "cell_type": "code",
      "metadata": {
        "id": "QflvjWVoX09I"
      },
      "source": [
        "import pandas as pd\r\n",
        "import numpy as np\r\n",
        "\r\n",
        "csvfile=pd.read_csv('/content/housing.csv')\r\n",
        "tsvfile=pd.read_table('/content/housing.csv')\r\n",
        "csvfile\r\n"
      ],
      "execution_count": null,
      "outputs": []
    },
    {
      "cell_type": "code",
      "metadata": {
        "id": "G5f_ST8wfxlO"
      },
      "source": [
        "exfile=pd.read_excel(r'/content/houseexcel.xlsx')\r\n",
        "exfile"
      ],
      "execution_count": null,
      "outputs": []
    },
    {
      "cell_type": "markdown",
      "metadata": {
        "id": "GYjkgMLLgZYg"
      },
      "source": [
        "Viewing/Inspecting Data"
      ]
    },
    {
      "cell_type": "code",
      "metadata": {
        "id": "qqm3yExxgSkz"
      },
      "source": [
        "csvfile.head()"
      ],
      "execution_count": null,
      "outputs": []
    },
    {
      "cell_type": "code",
      "metadata": {
        "id": "LRXtDgNOg-7H"
      },
      "source": [
        "csvfile.tail()"
      ],
      "execution_count": null,
      "outputs": []
    },
    {
      "cell_type": "code",
      "metadata": {
        "id": "KVW1v5-xgfmj"
      },
      "source": [
        "csvfile.info()"
      ],
      "execution_count": null,
      "outputs": []
    },
    {
      "cell_type": "code",
      "metadata": {
        "id": "wmBnaC8ZhMLS"
      },
      "source": [
        "#df.apply(np.sqrt) Not related to this housing.csv file"
      ],
      "execution_count": null,
      "outputs": []
    },
    {
      "cell_type": "markdown",
      "metadata": {
        "id": "MD77DJJ9aKKW"
      },
      "source": [
        "List"
      ]
    },
    {
      "cell_type": "code",
      "metadata": {
        "id": "jTJxcSX7Z2td"
      },
      "source": [
        "csvfile.values.tolist()"
      ],
      "execution_count": null,
      "outputs": []
    },
    {
      "cell_type": "code",
      "metadata": {
        "id": "qsO2aPduaHFw"
      },
      "source": [
        "print(csvfile)"
      ],
      "execution_count": null,
      "outputs": []
    },
    {
      "cell_type": "code",
      "metadata": {
        "id": "ipa7YGmWaJGA"
      },
      "source": [
        "list_of_rows=[list(row) for row in csvfile.values]\r\n",
        "print(list_of_rows)"
      ],
      "execution_count": null,
      "outputs": []
    },
    {
      "cell_type": "markdown",
      "metadata": {
        "id": "201j2KOOahsT"
      },
      "source": [
        "Unique"
      ]
    },
    {
      "cell_type": "code",
      "metadata": {
        "id": "btMB_XH9aga_"
      },
      "source": [
        "csvfile.longitude.unique()"
      ],
      "execution_count": null,
      "outputs": []
    },
    {
      "cell_type": "markdown",
      "metadata": {
        "id": "TYex7Je3cKZ1"
      },
      "source": [
        "Select"
      ]
    },
    {
      "cell_type": "code",
      "metadata": {
        "id": "eEWOOwmncLm9"
      },
      "source": [
        "#Selection by position\r\n",
        "csvfile.iloc[0,:]"
      ],
      "execution_count": null,
      "outputs": []
    },
    {
      "cell_type": "code",
      "metadata": {
        "id": "VVKW1D7ddary"
      },
      "source": [
        "#Select by index\r\n",
        "csvfile.loc[0]"
      ],
      "execution_count": null,
      "outputs": []
    },
    {
      "cell_type": "markdown",
      "metadata": {
        "id": "Mvr3k35sdkQK"
      },
      "source": [
        "Mass renaming of columns"
      ]
    },
    {
      "cell_type": "code",
      "metadata": {
        "id": "m6vW628zd1z_"
      },
      "source": [
        "csvfile.rename(columns=lambda x:x+1)"
      ],
      "execution_count": null,
      "outputs": []
    },
    {
      "cell_type": "markdown",
      "metadata": {
        "id": "QONEtAuYeeYx"
      },
      "source": [
        "Selective renaming of column"
      ]
    },
    {
      "cell_type": "code",
      "metadata": {
        "id": "MJx7evdQd4fK"
      },
      "source": [
        "csvfile.rename(columns={'housing_median_age':'House_Median_Age'},inplace=True)\r\n",
        "csvfile"
      ],
      "execution_count": null,
      "outputs": []
    },
    {
      "cell_type": "markdown",
      "metadata": {
        "id": "8wMCXGNHhpO4"
      },
      "source": [
        "Groupby"
      ]
    },
    {
      "cell_type": "code",
      "metadata": {
        "id": "5SMlkLnPhziA"
      },
      "source": [
        "csvfile.groupby(\"House_Median_Age\")\r\n",
        "csvfile"
      ],
      "execution_count": null,
      "outputs": []
    },
    {
      "cell_type": "code",
      "metadata": {
        "id": "9NGCOur0h3or"
      },
      "source": [
        "csvfile.groupby([\"longitude\",'latitude'])\r\n",
        "csvfile"
      ],
      "execution_count": null,
      "outputs": []
    },
    {
      "cell_type": "code",
      "metadata": {
        "id": "SzbU-hVhiCtj"
      },
      "source": [
        "csvfile.pivot_table(index=\"total_rooms\",values=[\"total_bedrooms\",\"population\"],aggfunc=np.sum)"
      ],
      "execution_count": null,
      "outputs": []
    },
    {
      "cell_type": "markdown",
      "metadata": {
        "id": "E2C6hROSiSct"
      },
      "source": [
        "Glimpse"
      ]
    },
    {
      "cell_type": "code",
      "metadata": {
        "id": "34akDO1IiJvl"
      },
      "source": [
        "csvfile.head()"
      ],
      "execution_count": null,
      "outputs": []
    },
    {
      "cell_type": "code",
      "metadata": {
        "id": "2nHo_Mo8iVDO"
      },
      "source": [
        "csvfile.describe()"
      ],
      "execution_count": null,
      "outputs": []
    },
    {
      "cell_type": "code",
      "metadata": {
        "id": "LIArnfrKif96"
      },
      "source": [
        "csvfile.slicing()"
      ],
      "execution_count": null,
      "outputs": []
    }
  ]
}